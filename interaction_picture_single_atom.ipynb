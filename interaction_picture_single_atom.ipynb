{
 "cells": [
  {
   "cell_type": "markdown",
   "metadata": {},
   "source": []
  },
  {
   "cell_type": "code",
   "execution_count": null,
   "metadata": {},
   "outputs": [],
   "source": [
    "import qutip"
   ]
  },
  {
   "cell_type": "code",
   "execution_count": null,
   "metadata": {},
   "outputs": [],
   "source": [
    "#example code\n",
    "\n",
    "#generate a spin ket\n",
    "N = 3; J = N/2; m = -J\n",
    "print(\"Total States: \", 2*J+1)\n",
    "ket = qutip.spin_state(J,m)\n",
    "print(ket)\n"
   ]
  },
  {
   "attachments": {},
   "cell_type": "markdown",
   "metadata": {},
   "source": [
    "# Basis States\n",
    "\n",
    "This problem is difficult to implement in QuTip without running into exponential scaling.\n",
    "\n",
    "For this first iteration, we're going to run into it. As it's the easiest code to write.\n",
    "\n",
    "Our basis states for the atoms are $\\{\\left|u\\right>, \\left|d\\right>, \\left|e\\right>\\}^{N}$."
   ]
  },
  {
   "cell_type": "code",
   "execution_count": null,
   "metadata": {},
   "outputs": [],
   "source": [
    "u = qutip.basis(3,0)\n",
    "d = qutip.basis(3,1)\n",
    "e = qutip.basis(3,2)\n",
    "\n",
    "#print out the basis states\n",
    "# print(\"u: \", u)\n",
    "# print(\"d: \", d)\n",
    "# print(\"e: \", e)\n",
    "\n",
    "id_atom = qutip.qeye(3)"
   ]
  },
  {
   "attachments": {},
   "cell_type": "markdown",
   "metadata": {},
   "source": [
    "Our cavity fock states are $\\{0, 1, 2\\}$"
   ]
  },
  {
   "cell_type": "code",
   "execution_count": null,
   "metadata": {},
   "outputs": [],
   "source": [
    "zero = qutip.basis(3,0)\n",
    "one = qutip.basis(3,1)\n",
    "two = qutip.basis(3,2)\n",
    "\n",
    "id_cav = qutip.qeye(3)"
   ]
  },
  {
   "attachments": {},
   "cell_type": "markdown",
   "metadata": {},
   "source": [
    "Here we define the single-spin operators `sx`, `sy`, `sz` in terms of $\\{\\left|u\\right>, \\left|d\\right>\\}$."
   ]
  },
  {
   "cell_type": "code",
   "execution_count": null,
   "metadata": {},
   "outputs": [],
   "source": [
    "#create the sx, sy, sz operators on the spin out of the u, d basis\n",
    "\n",
    "sz = (u*u.dag() - d*d.dag())/2\n",
    "sx = (u*d.dag() + d*u.dag())/2\n",
    "sy = (u*d.dag() - d*u.dag())/(2*1j)\n",
    "\n",
    "#print out the operators\n",
    "# print(\"sz: \", sz)\n",
    "# print(\"sx: \", sx)\n",
    "# print(\"sy: \", sy)\n",
    "\n",
    "#multiply by the identity on the cavity\n",
    "sz = qutip.tensor(sz, id_cav)\n",
    "sx = qutip.tensor(sx, id_cav)\n",
    "sy = qutip.tensor(sy, id_cav)"
   ]
  },
  {
   "attachments": {},
   "cell_type": "markdown",
   "metadata": {},
   "source": [
    "Here we define the single-excitation operators for down and up, `nu` and `mu`.\n",
    "\n",
    "$\\nu^\\dag = \\left| e \\right>\\left< u \\right|$\n",
    "\n",
    "$\\mu^\\dag = \\left| e \\right>\\left< d \\right|$"
   ]
  },
  {
   "cell_type": "code",
   "execution_count": null,
   "metadata": {},
   "outputs": [],
   "source": [
    "nu = u * e.dag()\n",
    "mu = d * e.dag()\n",
    "\n",
    "#multiply by the identity on the cavity\n",
    "mu = qutip.tensor(mu, id_cav)\n",
    "nu = qutip.tensor(nu, id_cav)"
   ]
  },
  {
   "attachments": {},
   "cell_type": "markdown",
   "metadata": {},
   "source": [
    "Here we define the annihilation operator."
   ]
  },
  {
   "cell_type": "code",
   "execution_count": null,
   "metadata": {},
   "outputs": [],
   "source": [
    "a = qutip.destroy(3)\n",
    "\n",
    "#multiply by the identity on the spin\n",
    "a = qutip.tensor(id_atom, a)"
   ]
  },
  {
   "attachments": {},
   "cell_type": "markdown",
   "metadata": {},
   "source": [
    "Here we define the constants. We'll write everything in terms of 1 scale, the time constant of one of the matrix coefficients."
   ]
  },
  {
   "cell_type": "code",
   "execution_count": null,
   "metadata": {},
   "outputs": [],
   "source": [
    "import numpy as np\n",
    "\n",
    "Gamma_si = 180e3/2/np.pi\n",
    "kappa_si = 500e3/2/np.pi\n",
    "eta = 4\n",
    "g_si = 2*np.pi*eta*np.sqrt(Gamma_si*kappa_si)/4\n",
    "\n",
    "#print a coupling constant in engineering notation\n",
    "print(f\"Atom Coupling Constant: {g_si:.2e} rad/s\")"
   ]
  },
  {
   "cell_type": "code",
   "execution_count": null,
   "metadata": {},
   "outputs": [],
   "source": [
    "omega = 2*np.pi*5e6\n",
    "\n",
    "print(f\"Optical Rabi Frequency: {omega:.2e} rad/s\")"
   ]
  },
  {
   "attachments": {},
   "cell_type": "markdown",
   "metadata": {},
   "source": [
    "Here we define the rescaled coefficients."
   ]
  },
  {
   "cell_type": "code",
   "execution_count": null,
   "metadata": {},
   "outputs": [],
   "source": [
    "scale = g_si\n",
    "\n",
    "g = g_si/scale\n",
    "kappa = kappa_si/scale\n",
    "Gamma = Gamma_si/scale\n",
    "omega = omega/scale\n",
    "Lambda = 0.1*kappa/scale"
   ]
  },
  {
   "attachments": {},
   "cell_type": "markdown",
   "metadata": {},
   "source": [
    "Here we define the Hamiltonian"
   ]
  },
  {
   "cell_type": "code",
   "execution_count": null,
   "metadata": {},
   "outputs": [],
   "source": [
    "def H(t,args):\n",
    "    try:\n",
    "        w = args['w']\n",
    "    except:\n",
    "        w = 0\n",
    "    Hpart = g*(a*nu.dag()*np.cos(omega*t)- 1j*a*mu.dag()*np.sin(omega*t)) + Lambda*(np.exp(1j*w*t)*a)\n",
    "\n",
    "    Ht = Hpart + Hpart.dag()\n",
    "    return Ht"
   ]
  },
  {
   "attachments": {},
   "cell_type": "markdown",
   "metadata": {},
   "source": [
    "# Initial State "
   ]
  },
  {
   "cell_type": "code",
   "execution_count": null,
   "metadata": {},
   "outputs": [],
   "source": [
    "psi0 = qutip.tensor(d, zero)\n",
    "rho0 = psi0*psi0.dag()\n",
    "rho0"
   ]
  },
  {
   "cell_type": "code",
   "execution_count": null,
   "metadata": {},
   "outputs": [],
   "source": [
    "id_spin = u*u.dag() + d*d.dag()\n",
    "\n",
    "id_spin = qutip.tensor(id_spin, id_cav)\n",
    "id_spin"
   ]
  },
  {
   "cell_type": "code",
   "execution_count": null,
   "metadata": {},
   "outputs": [],
   "source": [
    "cavity_decay = a*np.sqrt(kappa)\n",
    "atom_decay = nu*np.sqrt(Gamma)\n",
    "atom_decay"
   ]
  },
  {
   "cell_type": "code",
   "execution_count": null,
   "metadata": {},
   "outputs": [],
   "source": [
    "from qutip import mesolve\n",
    "from qutip.ui.progressbar import BaseProgressBar, TextProgressBar\n",
    "\n",
    "print(rho0.dims)\n",
    "print(cavity_decay.dims)\n",
    "print(atom_decay.dims)\n",
    "print(sx.dims)\n",
    "print(sy.dims)\n",
    "print(sz.dims)\n",
    "\n",
    "solution = mesolve(\n",
    "    H=H,\n",
    "    rho0=rho0,\n",
    "    tlist=np.linspace(0, 30/kappa, 100),\n",
    "    c_ops=[cavity_decay],\n",
    "    e_ops=[sx*sx, sy*sy, sz*sz, id_spin, a.dag()*a],\n",
    "    args={'w': -3*kappa},\n",
    "    progress_bar=TextProgressBar()\n",
    ")"
   ]
  },
  {
   "cell_type": "code",
   "execution_count": null,
   "metadata": {},
   "outputs": [],
   "source": [
    "#plot sx*sx\n",
    "\n",
    "import matplotlib.pyplot as plt\n",
    "\n",
    "sx = solution.expect[0]\n",
    "sy = solution.expect[1]\n",
    "sz = solution.expect[2]\n",
    "norm = solution.expect[3]\n",
    "photon = solution.expect[4]\n",
    "\n",
    "#elementwise division\n",
    "sx = sx/norm\n",
    "sy = sy/norm\n",
    "sz = sz/norm\n",
    "\n"
   ]
  },
  {
   "cell_type": "code",
   "execution_count": null,
   "metadata": {},
   "outputs": [],
   "source": [
    "#plot sx*sx\n",
    "plt.plot(solution.times, photon, label=\"sy\")"
   ]
  },
  {
   "cell_type": "code",
   "execution_count": null,
   "metadata": {},
   "outputs": [],
   "source": []
  }
 ],
 "metadata": {
  "kernelspec": {
   "display_name": "qutip",
   "language": "python",
   "name": "python3"
  },
  "language_info": {
   "codemirror_mode": {
    "name": "ipython",
    "version": 3
   },
   "file_extension": ".py",
   "mimetype": "text/x-python",
   "name": "python",
   "nbconvert_exporter": "python",
   "pygments_lexer": "ipython3",
   "version": "3.10.9"
  },
  "orig_nbformat": 4,
  "vscode": {
   "interpreter": {
    "hash": "7bb5feed39e19a6c528047e14cede8c102c39a32537499b83a2ebb043f601eef"
   }
  }
 },
 "nbformat": 4,
 "nbformat_minor": 2
}
